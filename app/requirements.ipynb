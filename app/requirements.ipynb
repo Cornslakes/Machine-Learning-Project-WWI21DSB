{
 "cells": [
  {
   "cell_type": "markdown",
   "id": "78134400",
   "metadata": {},
   "source": [
    "# Clone API repository"
   ]
  },
  {
   "cell_type": "code",
   "execution_count": null,
   "id": "fe71f7fd",
   "metadata": {},
   "outputs": [],
   "source": [
    "import wget\n",
    "import os"
   ]
  },
  {
   "cell_type": "code",
   "execution_count": null,
   "id": "c4d0b04d",
   "metadata": {},
   "outputs": [],
   "source": [
    "if not os.path.exists(os.path.join('model', 'object_detection')):\n",
    "    !git clone https://github.com/tensorflow/models {os.path.join('model', 'object_detection')}"
   ]
  },
  {
   "cell_type": "markdown",
   "id": "72c14682",
   "metadata": {},
   "source": [
    "# Install Tensorflow Object Detection "
   ]
  },
  {
   "cell_type": "code",
   "execution_count": null,
   "id": "93dd12e4",
   "metadata": {},
   "outputs": [],
   "source": [
    "# Install protoc \n",
    "url=\"https://github.com/protocolbuffers/protobuf/releases/download/v3.15.6/protoc-3.15.6-win64.zip\"\n",
    "wget.download(url)\n",
    "!move protoc-3.15.6-win64.zip {os.path.join('model', 'object_detection')}\n",
    "\n",
    "# Prepare setup\n",
    "!cd {os.path.join('model', 'object_detection')} && tar -xf protoc-3.15.6-win64.zip\n",
    "os.environ['PATH'] += os.pathsep + os.path.abspath(os.path.join('model', 'object_detection','bin'))  \n",
    "!cd model/object_detection/research && protoc object_detection/protos/*.proto --python_out=. && copy object_detection\\\\packages\\\\tf2\\\\setup.py setup.py && python setup.py build && python setup.py install\n",
    "!cd model/object_detection/research/slim && pip install -e . "
   ]
  },
  {
   "cell_type": "markdown",
   "id": "9fdfa1bb",
   "metadata": {},
   "source": [
    "# Verify installation, if it prints OK, installation was successfull"
   ]
  },
  {
   "cell_type": "code",
   "execution_count": null,
   "id": "e2eae467",
   "metadata": {},
   "outputs": [],
   "source": [
    "model_builder_test = os.path.join('model', 'object_detection','research','object_detection', 'builders', 'model_builder_tf2_test.py')\n",
    "# Verify Installation\n",
    "!python {model_builder_test}"
   ]
  }
 ],
 "metadata": {
  "kernelspec": {
   "display_name": "Python 3 (ipykernel)",
   "language": "python",
   "name": "python3"
  },
  "language_info": {
   "codemirror_mode": {
    "name": "ipython",
    "version": 3
   },
   "file_extension": ".py",
   "mimetype": "text/x-python",
   "name": "python",
   "nbconvert_exporter": "python",
   "pygments_lexer": "ipython3",
   "version": "3.8.10"
  }
 },
 "nbformat": 4,
 "nbformat_minor": 5
}
